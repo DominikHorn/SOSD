{
 "cells": [
  {
   "cell_type": "code",
   "execution_count": 1,
   "id": "8e755dae-fccb-40b9-8555-555df2229516",
   "metadata": {},
   "outputs": [],
   "source": [
    "import os"
   ]
  },
  {
   "cell_type": "code",
   "execution_count": 2,
   "id": "70b37a83-7779-458d-962f-9dbc6f6fe13d",
   "metadata": {},
   "outputs": [],
   "source": [
    "datasets = [\n",
    "    \"osm_cellids_200M_uint64\",\n",
    "    \"wiki_ts_200M_uint64\",\n",
    "    \"books_200M_uint64\",\n",
    "    \"fb_200M_uint64\",\n",
    "    \"osm_cellids_400M_uint64\",\n",
    "    \"osm_cellids_600M_uint64\",\n",
    "    \"osm_cellids_800M_uint64\",\n",
    "    \"books_400M_uint64\",\n",
    "    \"books_600M_uint64\",\n",
    "    \"books_800M_uint64\",\n",
    "    \"books_200M_uint32\",\n",
    "    \"normal_200M_uint32\",\n",
    "    \"normal_200M_uint64\",\n",
    "    \"lognormal_200M_uint32\",\n",
    "    \"lognormal_200M_uint64\",\n",
    "    \"uniform_dense_200M_uint32\",\n",
    "    \"uniform_dense_200M_uint64\",\n",
    "    \"uniform_sparse_200M_uint32\",\n",
    "    \"uniform_sparse_200M_uint64\"\n",
    "]"
   ]
  },
  {
   "cell_type": "code",
   "execution_count": 3,
   "id": "ed736d60-8eae-47cc-9002-7fef1ffa9e04",
   "metadata": {},
   "outputs": [],
   "source": [
    "with open(\"../SOSD/results_rmi/segment_data.csv\", newline=\"\") as rmi_segs, open(\"../SOSD/results_rmi_robust/segment_data.csv\", newline=\"\") as rmi_robust_segs:\n",
    "    variants = 10\n",
    "    for i, ds in enumerate(datasets):\n",
    "        for v in range(variants):\n",
    "            if ds not in {\"fb_200M_uint64\", \"books_200M_uint64\"}:\n",
    "                next(rmi_segs)\n",
    "                for _ in range(5):\n",
    "                    next(rmi_robust_segs)\n",
    "                continue\n",
    "            \n",
    "            with open(f\"results/rmi_segs_{ds}_{v}.csv\", 'a') as f:\n",
    "                print(','.join(rmi_segs.readline().split(',')[1:-1]), file=f)\n",
    "                \n",
    "                for _ in range(5):\n",
    "                    print(','.join(rmi_robust_segs.readline().split(',')[1:-1]), file=f)"
   ]
  },
  {
   "cell_type": "code",
   "execution_count": null,
   "id": "f5fe03bf-e063-44fa-82b2-db32a7d36eb8",
   "metadata": {},
   "outputs": [],
   "source": []
  }
 ],
 "metadata": {
  "kernelspec": {
   "display_name": "Python 3 (ipykernel)",
   "language": "python",
   "name": "python3"
  },
  "language_info": {
   "codemirror_mode": {
    "name": "ipython",
    "version": 3
   },
   "file_extension": ".py",
   "mimetype": "text/x-python",
   "name": "python",
   "nbconvert_exporter": "python",
   "pygments_lexer": "ipython3",
   "version": "3.8.10"
  }
 },
 "nbformat": 4,
 "nbformat_minor": 5
}
