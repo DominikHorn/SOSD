{
 "cells": [
  {
   "cell_type": "code",
   "execution_count": 1,
   "id": "28d86f56-ce87-41df-ac8e-19571b2dd032",
   "metadata": {},
   "outputs": [],
   "source": [
    "import os\n",
    "import csv\n",
    "import math\n",
    "import re\n",
    "\n",
    "import numpy as np\n",
    "import matplotlib\n",
    "import matplotlib.pyplot as plt\n",
    "\n",
    "import matplotlib.colors as mcolors"
   ]
  },
  {
   "cell_type": "code",
   "execution_count": 2,
   "id": "25f445e1-bec1-42b6-8104-dd2d1d2e436d",
   "metadata": {},
   "outputs": [],
   "source": [
    "fontsize=14\n",
    "outfolder=\"plots\"\n",
    "\n",
    "datasets = [\n",
    "    \"osm_cellids_200M_uint64\",\n",
    "    \"wiki_ts_200M_uint64\",\n",
    "    \"books_200M_uint64\",\n",
    "    \"fb_200M_uint64\",\n",
    "    \"osm_cellids_400M_uint64\",\n",
    "    \"osm_cellids_600M_uint64\",\n",
    "    \"osm_cellids_800M_uint64\",\n",
    "    \"books_400M_uint64\",\n",
    "    \"books_600M_uint64\",\n",
    "    \"books_800M_uint64\",\n",
    "    \"books_200M_uint32\",\n",
    "    \"normal_200M_uint32\",\n",
    "    \"normal_200M_uint64\",\n",
    "    \"lognormal_200M_uint32\",\n",
    "    \"lognormal_200M_uint64\",\n",
    "    \"uniform_dense_200M_uint32\",\n",
    "    \"uniform_dense_200M_uint64\",\n",
    "    \"uniform_sparse_200M_uint32\",\n",
    "    \"uniform_sparse_200M_uint64\"\n",
    "]\n",
    "\n",
    "def get_ds_name(ds):\n",
    "    short_name = ds[:ds.find(\"_\", 0, -1)]\n",
    "    if short_name == \"fb\":\n",
    "        return \"face\"\n",
    "    elif short_name == \"books\":\n",
    "        return \"amzn\"\n",
    "    return short_name\n",
    "\n",
    "def get_ds_size(ds):\n",
    "    return re.search(r'_([0-9]+M)_', ds, re.IGNORECASE).group(1)\n",
    "\n",
    "def aggregate(data, num_bins=120):\n",
    "    data = np.pad(data, (0, max(0, num_bins - len(data))), 'constant')\n",
    "    bin_width = int(len(data) / num_bins)\n",
    "    \n",
    "    res = []\n",
    "    for b in range(num_bins):\n",
    "        bin_cnt = 0\n",
    "        for i in range(b * bin_width, (b+1) * bin_width):\n",
    "            bin_cnt += data[i]\n",
    "        res.append(bin_cnt)\n",
    "        \n",
    "    return res"
   ]
  },
  {
   "cell_type": "code",
   "execution_count": 19,
   "id": "c88a8830-455c-4648-99a3-2be7a334bfda",
   "metadata": {},
   "outputs": [
    {
     "name": "stdout",
     "output_type": "stream",
     "text": [
      "(2, 2)\n"
     ]
    },
    {
     "data": {
      "image/png": "[encoded data removed]",
      "text/plain": [
       "<Figure size 1440x432 with 4 Axes>"
      ]
     },
     "metadata": {
      "needs_background": "light"
     },
     "output_type": "display_data"
    }
   ],
   "source": [
    "with open(\"./results/rmi_segments.csv\", newline=\"\") as rmi_segs, open(\"./results/rmi_robust_segments.csv\", newline=\"\") as rmi_robust_segs:\n",
    "    filtered_ds = {\"fb_200M_uint64\", \"osm_cellids_200M_uint64\", \"wiki_ts_200M_uint64\"}#{ds for ds in datasets if \"200M\" in ds}\n",
    "\n",
    "    fig_height = 2\n",
    "    fig_width = int(math.ceil(len(filtered_ds) / fig_height))\n",
    "    fig, axs = plt.subplots(fig_height, fig_width, figsize=(10 * fig_width, 3 * fig_height))#, sharex=True, sharey=True)\n",
    "    \n",
    "    skipped = 0\n",
    "    for i, dataset in enumerate(datasets):\n",
    "        rmi = [int(num) for num in rmi_segs.readline().split(\",\")[1:-1]]\n",
    "        rmi_rob_1permyriad = [int(num) for num in rmi_robust_segs.readline().split(\",\")[1:-1]]\n",
    "        rmi_rob_5permyriad = [int(num) for num in rmi_robust_segs.readline().split(\",\")[1:-1]]\n",
    "        rmi_rob_1permille = [int(num) for num in rmi_robust_segs.readline().split(\",\")[1:-1]]\n",
    "        rmi_rob_5permille = [int(num) for num in rmi_robust_segs.readline().split(\",\")[1:-1]]\n",
    "        rmi_rob_0 = [int(num) for num in rmi_robust_segs.readline().split(\",\")[1:-1]]\n",
    "        \n",
    "        if dataset not in filtered_ds:\n",
    "            skipped += 1\n",
    "            continue\n",
    "            \n",
    "        x = (i - skipped) % fig_width\n",
    "        y = int((i - skipped) / fig_width)\n",
    "        ax = axs[y][x]\n",
    "        ax.set_yscale(\"log\")\n",
    "        ax.set_title(f\"{get_ds_name(dataset)} - {get_ds_size(dataset)} elements\")\n",
    "        ax.tick_params(\n",
    "            axis='x',          # changes apply to the x-axis\n",
    "            which='both',      # both major and minor ticks are affected\n",
    "            bottom=False,      # ticks along the bottom edge are off\n",
    "            top=False,         # ticks along the top edge are off\n",
    "            labelbottom=False\n",
    "        )\n",
    "        \n",
    "        # build histogram with fixed bin size\n",
    "        rmi = aggregate(rmi)\n",
    "        rmi_rob_1permille = aggregate(rmi_rob_1permille)\n",
    "        \n",
    "        label_pos = np.arange(len(rmi)) \n",
    "        bar_width = 1.0 / 2\n",
    "        ax.bar(label_pos - 0.5 * bar_width, rmi, bar_width, label=\"rmi\")\n",
    "        ax.bar(label_pos + 0.5 * bar_width, rmi_rob_1permille, bar_width, label=\"rmi robust 0.1%\")\n",
    "        \n",
    "        # bar_width = 1.0 / 7.0\n",
    "        # ax.bar(label_pos - 2.5 * bar_width, rmi, bar_width, label=\"rmi\")\n",
    "        # ax.bar(label_pos - 1.5 * bar_width, rmi_rob_1permyriad, bar_width, label=\"rmi robust 0.01%\")\n",
    "        # ax.bar(label_pos - 0.5 * bar_width, rmi_rob_5permyriad, bar_width, label=\"rmi robust 0.05%\")\n",
    "        # ax.bar(label_pos + 0.5 * bar_width, rmi_rob_1permille, bar_width, label=\"rmi robust 0.1%\")\n",
    "        # ax.bar(label_pos + 1.5 * bar_width, rmi_rob_5permille, bar_width, label=\"rmi robust 0.5%\")\n",
    "        # ax.bar(label_pos + 2.5 * bar_width, rmi_rob_0, bar_width, label=\"rmi robust 0%\")\n",
    "\n",
    "    fig.savefig(f\"./plots/rmi_segments.pdf\")"
   ]
  },
  {
   "cell_type": "code",
   "execution_count": null,
   "id": "0d004539-7dd6-4a6e-9304-7b1a9645ac1a",
   "metadata": {},
   "outputs": [],
   "source": []
  }
 ],
 "metadata": {
  "kernelspec": {
   "display_name": "Python 3 (ipykernel)",
   "language": "python",
   "name": "python3"
  },
  "language_info": {
   "codemirror_mode": {
    "name": "ipython",
    "version": 3
   },
   "file_extension": ".py",
   "mimetype": "text/x-python",
   "name": "python",
   "nbconvert_exporter": "python",
   "pygments_lexer": "ipython3",
   "version": "3.9.7"
  }
 },
 "nbformat": 4,
 "nbformat_minor": 5
}
